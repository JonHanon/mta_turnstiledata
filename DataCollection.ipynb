{
 "cells": [
  {
   "cell_type": "code",
   "execution_count": 1,
   "metadata": {},
   "outputs": [],
   "source": [
    "# pip install beautifulsoup4\n",
    "import numpy as np\n",
    "import pandas as pd\n",
    "import datetime as dt\n",
    "pd.options.display.max_rows = 100\n",
    "import urllib.request\n",
    "from scipy.interpolate import interp1d\n",
    "from bs4 import BeautifulSoup\n",
    "from urllib import request\n",
    "from matplotlib import pyplot as plt\n",
    "import os \n",
    "URL = 'http://web.mta.info/developers'"
   ]
  },
  {
   "cell_type": "code",
   "execution_count": 2,
   "metadata": {},
   "outputs": [
    {
     "data": {
      "text/plain": [
       "Timestamp('2014-10-11 00:00:00')"
      ]
     },
     "execution_count": 2,
     "metadata": {},
     "output_type": "execute_result"
    }
   ],
   "source": [
    "soup = BeautifulSoup(request.urlopen(URL + '/turnstile.html'))\n",
    "hrefs = []\n",
    "\n",
    "if not os.path.exists('data'):\n",
    "    os.mkdir('data')\n",
    "\n",
    "for href in soup.findAll('a'):\n",
    "    if '.txt' in str(href):\n",
    "        hrefs.append(URL + '/' + str(href.get('href')))\n",
    "        \n",
    "hrefs = list(filter(lambda x: 'turnstile_' in x, hrefs))\n",
    "hrefs = sorted(hrefs)\n",
    "idx = np.where(np.array(hrefs) == 'http://web.mta.info/developers/data/nyct/turnstile/turnstile_141018.txt')[0][0]\n",
    "hrefs = hrefs[idx:]\n",
    "\n",
    "start = pd.to_datetime('20' + hrefs[0].split('_')[-1][:-4]) - dt.timedelta(hours = 168)\n",
    "start"
   ]
  },
  {
   "cell_type": "code",
   "execution_count": 3,
   "metadata": {
    "scrolled": true
   },
   "outputs": [],
   "source": [
    "thehref = hrefs[0]"
   ]
  },
  {
   "cell_type": "code",
   "execution_count": 4,
   "metadata": {},
   "outputs": [],
   "source": [
    "data = pd.read_csv(thehref, usecols = [0, 2, 3, 4, 6, 7, 9, 10])\n",
    "data.columns = list(map(lambda x: x.strip(), data.columns))\n",
    "data['C/A_SCP_STAT_LINE'] = data[['C/A', 'SCP', 'STATION', 'LINENAME']].apply(lambda x: '_'.join(x), axis = 1)\n",
    "data['DATE_TIME'] = data[['DATE', 'TIME']].apply(lambda x: ' '.join(x), axis = 1)\n",
    "data = data[['C/A_SCP_STAT_LINE', 'DATE_TIME', 'ENTRIES', 'EXITS']]\n",
    "data['DATE_TIME'] = pd.to_datetime(data['DATE_TIME'])\n",
    "data = data.sort_values(['C/A_SCP_STAT_LINE', 'DATE_TIME'])\n",
    "\n",
    "data['hour'] = data['DATE_TIME'].apply(lambda x: int((x - start).total_seconds()/3600))\n",
    "data['hour_ENTRIES_EXITS'] = data[['hour', 'ENTRIES', 'EXITS']].apply(lambda x: (x[0], x[1], x[2]), axis = 1)\n",
    "data = data[['C/A_SCP_STAT_LINE', 'hour_ENTRIES_EXITS']]"
   ]
  },
  {
   "cell_type": "code",
   "execution_count": 8,
   "metadata": {
    "scrolled": false
   },
   "outputs": [
    {
     "data": {
      "text/html": [
       "<div>\n",
       "<style scoped>\n",
       "    .dataframe tbody tr th:only-of-type {\n",
       "        vertical-align: middle;\n",
       "    }\n",
       "\n",
       "    .dataframe tbody tr th {\n",
       "        vertical-align: top;\n",
       "    }\n",
       "\n",
       "    .dataframe thead th {\n",
       "        text-align: right;\n",
       "    }\n",
       "</style>\n",
       "<table border=\"1\" class=\"dataframe\">\n",
       "  <thead>\n",
       "    <tr style=\"text-align: right;\">\n",
       "      <th></th>\n",
       "      <th>C/A_SCP_STAT_LINE</th>\n",
       "      <th>hour_ENTRIES_EXITS</th>\n",
       "    </tr>\n",
       "  </thead>\n",
       "  <tbody>\n",
       "    <tr>\n",
       "      <th>37998</th>\n",
       "      <td>A002_02-00-00_LEXINGTON AVE_NQR456</td>\n",
       "      <td>(0, 4820917, 1635728)</td>\n",
       "    </tr>\n",
       "    <tr>\n",
       "      <th>37999</th>\n",
       "      <td>A002_02-00-00_LEXINGTON AVE_NQR456</td>\n",
       "      <td>(4, 4820962, 1635732)</td>\n",
       "    </tr>\n",
       "    <tr>\n",
       "      <th>38000</th>\n",
       "      <td>A002_02-00-00_LEXINGTON AVE_NQR456</td>\n",
       "      <td>(8, 4820978, 1635762)</td>\n",
       "    </tr>\n",
       "  </tbody>\n",
       "</table>\n",
       "</div>"
      ],
      "text/plain": [
       "                        C/A_SCP_STAT_LINE     hour_ENTRIES_EXITS\n",
       "37998  A002_02-00-00_LEXINGTON AVE_NQR456  (0, 4820917, 1635728)\n",
       "37999  A002_02-00-00_LEXINGTON AVE_NQR456  (4, 4820962, 1635732)\n",
       "38000  A002_02-00-00_LEXINGTON AVE_NQR456  (8, 4820978, 1635762)"
      ]
     },
     "execution_count": 8,
     "metadata": {},
     "output_type": "execute_result"
    }
   ],
   "source": [
    "data.head(3)"
   ]
  },
  {
   "cell_type": "code",
   "execution_count": 9,
   "metadata": {},
   "outputs": [],
   "source": [
    "entries_exits = dict(data[['C/A_SCP_STAT_LINE', 'hour_ENTRIES_EXITS']].groupby(['C/A_SCP_STAT_LINE'])\\\n",
    "                                                ['hour_ENTRIES_EXITS'].apply(list).reset_index().values)"
   ]
  },
  {
   "cell_type": "code",
   "execution_count": 11,
   "metadata": {},
   "outputs": [],
   "source": [
    "hours, entries, exits = np.transpose(entries_exits['A002_02-00-00_LEXINGTON AVE_NQR456'])"
   ]
  },
  {
   "cell_type": "code",
   "execution_count": 12,
   "metadata": {},
   "outputs": [],
   "source": [
    "get_entries = interp1d(hours, entries)\n",
    "get_exits = interp1d(hours, exits)"
   ]
  },
  {
   "cell_type": "code",
   "execution_count": 13,
   "metadata": {},
   "outputs": [
    {
     "data": {
      "text/plain": [
       "<matplotlib.collections.PathCollection at 0x7f87aff4e090>"
      ]
     },
     "execution_count": 13,
     "metadata": {},
     "output_type": "execute_result"
    },
    {
     "data": {
      "image/png": "[encoded data removed]",
      "text/plain": [
       "<Figure size 432x288 with 1 Axes>"
      ]
     },
     "metadata": {
      "needs_background": "light"
     },
     "output_type": "display_data"
    }
   ],
   "source": [
    "plt.scatter(hours, entries)"
   ]
  },
  {
   "cell_type": "code",
   "execution_count": 14,
   "metadata": {},
   "outputs": [
    {
     "data": {
      "text/plain": [
       "<matplotlib.collections.PathCollection at 0x7f87ab2e6a90>"
      ]
     },
     "execution_count": 14,
     "metadata": {},
     "output_type": "execute_result"
    },
    {
     "data": {
      "image/png": "[encoded data removed]",
      "text/plain": [
       "<Figure size 432x288 with 1 Axes>"
      ]
     },
     "metadata": {
      "needs_background": "light"
     },
     "output_type": "display_data"
    }
   ],
   "source": [
    "plt.scatter(hours, exits)"
   ]
  },
  {
   "cell_type": "code",
   "execution_count": 15,
   "metadata": {},
   "outputs": [],
   "source": [
    "entries = get_entries(np.arange(max(hours)))\n",
    "exits = get_exits(np.arange(max(hours)))"
   ]
  },
  {
   "cell_type": "code",
   "execution_count": 16,
   "metadata": {},
   "outputs": [
    {
     "data": {
      "text/plain": [
       "<matplotlib.collections.PathCollection at 0x7f87ab297ed0>"
      ]
     },
     "execution_count": 16,
     "metadata": {},
     "output_type": "execute_result"
    },
    {
     "data": {
      "image/png": "[encoded data removed]",
      "text/plain": [
       "<Figure size 432x288 with 1 Axes>"
      ]
     },
     "metadata": {
      "needs_background": "light"
     },
     "output_type": "display_data"
    }
   ],
   "source": [
    "plt.scatter(np.arange(max(hours)), entries)"
   ]
  },
  {
   "cell_type": "code",
   "execution_count": 17,
   "metadata": {},
   "outputs": [
    {
     "data": {
      "text/plain": [
       "<matplotlib.collections.PathCollection at 0x7f87ab21aad0>"
      ]
     },
     "execution_count": 17,
     "metadata": {},
     "output_type": "execute_result"
    },
    {
     "data": {
      "image/png": "[encoded data removed]",
      "text/plain": [
       "<Figure size 432x288 with 1 Axes>"
      ]
     },
     "metadata": {
      "needs_background": "light"
     },
     "output_type": "display_data"
    }
   ],
   "source": [
    "plt.scatter(np.arange(max(hours)), exits)"
   ]
  },
  {
   "cell_type": "code",
   "execution_count": null,
   "metadata": {},
   "outputs": [],
   "source": []
  },
  {
   "cell_type": "code",
   "execution_count": null,
   "metadata": {},
   "outputs": [],
   "source": [
    "# data.to_csv(os.path.join('data', 'tst.csv'), index = False)"
   ]
  }
 ],
 "metadata": {
  "kernelspec": {
   "display_name": "Python 3",
   "language": "python",
   "name": "python3"
  },
  "language_info": {
   "codemirror_mode": {
    "name": "ipython",
    "version": 3
   },
   "file_extension": ".py",
   "mimetype": "text/x-python",
   "name": "python",
   "nbconvert_exporter": "python",
   "pygments_lexer": "ipython3",
   "version": "3.7.7"
  }
 },
 "nbformat": 4,
 "nbformat_minor": 4
}
